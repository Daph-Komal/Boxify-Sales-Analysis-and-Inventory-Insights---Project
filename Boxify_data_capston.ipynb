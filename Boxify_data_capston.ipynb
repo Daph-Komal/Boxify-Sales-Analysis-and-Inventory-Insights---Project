{
 "cells": [
  {
   "cell_type": "code",
   "execution_count": 1,
   "id": "51d419e4-e341-457f-b48e-35ec2a1d0bda",
   "metadata": {},
   "outputs": [],
   "source": [
    "import pandas as pd\n",
    "import warnings\n",
    "warnings.filterwarnings(\"ignore\")"
   ]
  },
  {
   "cell_type": "code",
   "execution_count": 5,
   "id": "f979da51-167f-4eba-98da-4b6b74f93b33",
   "metadata": {},
   "outputs": [],
   "source": [
    "df= pd.read_csv(\"Boxify Dataset - Data Analyst Bootcamp.csv\")"
   ]
  },
  {
   "cell_type": "code",
   "execution_count": 7,
   "id": "f787e4fc-b5ce-4ea2-aef4-7c689efb1f6b",
   "metadata": {},
   "outputs": [
    {
     "data": {
      "text/html": [
       "<div>\n",
       "<style scoped>\n",
       "    .dataframe tbody tr th:only-of-type {\n",
       "        vertical-align: middle;\n",
       "    }\n",
       "\n",
       "    .dataframe tbody tr th {\n",
       "        vertical-align: top;\n",
       "    }\n",
       "\n",
       "    .dataframe thead th {\n",
       "        text-align: right;\n",
       "    }\n",
       "</style>\n",
       "<table border=\"1\" class=\"dataframe\">\n",
       "  <thead>\n",
       "    <tr style=\"text-align: right;\">\n",
       "      <th></th>\n",
       "      <th>Order</th>\n",
       "      <th>File_Type</th>\n",
       "      <th>SKU_number</th>\n",
       "      <th>SoldFlag</th>\n",
       "      <th>SoldCount</th>\n",
       "      <th>MarketingType</th>\n",
       "      <th>ReleaseNumber</th>\n",
       "      <th>New_Release_Flag</th>\n",
       "      <th>StrengthFactor</th>\n",
       "      <th>PriceReg</th>\n",
       "      <th>ReleaseYear</th>\n",
       "      <th>ItemCount</th>\n",
       "      <th>LowUserPrice</th>\n",
       "      <th>LowNetPrice</th>\n",
       "    </tr>\n",
       "  </thead>\n",
       "  <tbody>\n",
       "    <tr>\n",
       "      <th>0</th>\n",
       "      <td>2</td>\n",
       "      <td>Historical</td>\n",
       "      <td>1737127</td>\n",
       "      <td>0.0</td>\n",
       "      <td>0.0</td>\n",
       "      <td>D</td>\n",
       "      <td>15</td>\n",
       "      <td>1</td>\n",
       "      <td>6.827430e+05</td>\n",
       "      <td>44.99</td>\n",
       "      <td>2015</td>\n",
       "      <td>8</td>\n",
       "      <td>28.97</td>\n",
       "      <td>31.84</td>\n",
       "    </tr>\n",
       "    <tr>\n",
       "      <th>1</th>\n",
       "      <td>3</td>\n",
       "      <td>Historical</td>\n",
       "      <td>3255963</td>\n",
       "      <td>0.0</td>\n",
       "      <td>0.0</td>\n",
       "      <td>D</td>\n",
       "      <td>7</td>\n",
       "      <td>1</td>\n",
       "      <td>1.016014e+06</td>\n",
       "      <td>24.81</td>\n",
       "      <td>2005</td>\n",
       "      <td>39</td>\n",
       "      <td>0.00</td>\n",
       "      <td>15.54</td>\n",
       "    </tr>\n",
       "    <tr>\n",
       "      <th>2</th>\n",
       "      <td>4</td>\n",
       "      <td>Historical</td>\n",
       "      <td>612701</td>\n",
       "      <td>0.0</td>\n",
       "      <td>0.0</td>\n",
       "      <td>D</td>\n",
       "      <td>0</td>\n",
       "      <td>0</td>\n",
       "      <td>3.404640e+05</td>\n",
       "      <td>46.00</td>\n",
       "      <td>2013</td>\n",
       "      <td>34</td>\n",
       "      <td>30.19</td>\n",
       "      <td>27.97</td>\n",
       "    </tr>\n",
       "    <tr>\n",
       "      <th>3</th>\n",
       "      <td>6</td>\n",
       "      <td>Historical</td>\n",
       "      <td>115883</td>\n",
       "      <td>1.0</td>\n",
       "      <td>1.0</td>\n",
       "      <td>D</td>\n",
       "      <td>4</td>\n",
       "      <td>1</td>\n",
       "      <td>3.340110e+05</td>\n",
       "      <td>100.00</td>\n",
       "      <td>2006</td>\n",
       "      <td>20</td>\n",
       "      <td>133.93</td>\n",
       "      <td>83.15</td>\n",
       "    </tr>\n",
       "    <tr>\n",
       "      <th>4</th>\n",
       "      <td>7</td>\n",
       "      <td>Historical</td>\n",
       "      <td>863939</td>\n",
       "      <td>1.0</td>\n",
       "      <td>1.0</td>\n",
       "      <td>D</td>\n",
       "      <td>2</td>\n",
       "      <td>1</td>\n",
       "      <td>1.287938e+06</td>\n",
       "      <td>121.95</td>\n",
       "      <td>2010</td>\n",
       "      <td>28</td>\n",
       "      <td>4.00</td>\n",
       "      <td>23.99</td>\n",
       "    </tr>\n",
       "    <tr>\n",
       "      <th>...</th>\n",
       "      <td>...</td>\n",
       "      <td>...</td>\n",
       "      <td>...</td>\n",
       "      <td>...</td>\n",
       "      <td>...</td>\n",
       "      <td>...</td>\n",
       "      <td>...</td>\n",
       "      <td>...</td>\n",
       "      <td>...</td>\n",
       "      <td>...</td>\n",
       "      <td>...</td>\n",
       "      <td>...</td>\n",
       "      <td>...</td>\n",
       "      <td>...</td>\n",
       "    </tr>\n",
       "    <tr>\n",
       "      <th>198912</th>\n",
       "      <td>208023</td>\n",
       "      <td>Active</td>\n",
       "      <td>109683</td>\n",
       "      <td>NaN</td>\n",
       "      <td>NaN</td>\n",
       "      <td>D</td>\n",
       "      <td>7</td>\n",
       "      <td>1</td>\n",
       "      <td>2.101869e+05</td>\n",
       "      <td>72.87</td>\n",
       "      <td>2006</td>\n",
       "      <td>54</td>\n",
       "      <td>8.46</td>\n",
       "      <td>60.59</td>\n",
       "    </tr>\n",
       "    <tr>\n",
       "      <th>198913</th>\n",
       "      <td>208024</td>\n",
       "      <td>Active</td>\n",
       "      <td>416462</td>\n",
       "      <td>NaN</td>\n",
       "      <td>NaN</td>\n",
       "      <td>D</td>\n",
       "      <td>8</td>\n",
       "      <td>1</td>\n",
       "      <td>4.555041e+05</td>\n",
       "      <td>247.00</td>\n",
       "      <td>2009</td>\n",
       "      <td>65</td>\n",
       "      <td>8.40</td>\n",
       "      <td>74.85</td>\n",
       "    </tr>\n",
       "    <tr>\n",
       "      <th>198914</th>\n",
       "      <td>208025</td>\n",
       "      <td>Active</td>\n",
       "      <td>658242</td>\n",
       "      <td>NaN</td>\n",
       "      <td>NaN</td>\n",
       "      <td>S</td>\n",
       "      <td>2</td>\n",
       "      <td>1</td>\n",
       "      <td>1.692746e+05</td>\n",
       "      <td>50.00</td>\n",
       "      <td>2012</td>\n",
       "      <td>23</td>\n",
       "      <td>23.98</td>\n",
       "      <td>32.62</td>\n",
       "    </tr>\n",
       "    <tr>\n",
       "      <th>198915</th>\n",
       "      <td>208026</td>\n",
       "      <td>Active</td>\n",
       "      <td>2538340</td>\n",
       "      <td>NaN</td>\n",
       "      <td>NaN</td>\n",
       "      <td>S</td>\n",
       "      <td>2</td>\n",
       "      <td>1</td>\n",
       "      <td>3.775266e+05</td>\n",
       "      <td>46.95</td>\n",
       "      <td>2001</td>\n",
       "      <td>23</td>\n",
       "      <td>27.42</td>\n",
       "      <td>37.89</td>\n",
       "    </tr>\n",
       "    <tr>\n",
       "      <th>198916</th>\n",
       "      <td>208027</td>\n",
       "      <td>Active</td>\n",
       "      <td>416662</td>\n",
       "      <td>NaN</td>\n",
       "      <td>NaN</td>\n",
       "      <td>D</td>\n",
       "      <td>15</td>\n",
       "      <td>1</td>\n",
       "      <td>1.183068e+05</td>\n",
       "      <td>120.00</td>\n",
       "      <td>2010</td>\n",
       "      <td>44</td>\n",
       "      <td>10.97</td>\n",
       "      <td>60.67</td>\n",
       "    </tr>\n",
       "  </tbody>\n",
       "</table>\n",
       "<p>198917 rows × 14 columns</p>\n",
       "</div>"
      ],
      "text/plain": [
       "         Order   File_Type  SKU_number  SoldFlag  SoldCount MarketingType  \\\n",
       "0            2  Historical     1737127       0.0        0.0             D   \n",
       "1            3  Historical     3255963       0.0        0.0             D   \n",
       "2            4  Historical      612701       0.0        0.0             D   \n",
       "3            6  Historical      115883       1.0        1.0             D   \n",
       "4            7  Historical      863939       1.0        1.0             D   \n",
       "...        ...         ...         ...       ...        ...           ...   \n",
       "198912  208023      Active      109683       NaN        NaN             D   \n",
       "198913  208024      Active      416462       NaN        NaN             D   \n",
       "198914  208025      Active      658242       NaN        NaN             S   \n",
       "198915  208026      Active     2538340       NaN        NaN             S   \n",
       "198916  208027      Active      416662       NaN        NaN             D   \n",
       "\n",
       "        ReleaseNumber  New_Release_Flag  StrengthFactor  PriceReg  \\\n",
       "0                  15                 1    6.827430e+05     44.99   \n",
       "1                   7                 1    1.016014e+06     24.81   \n",
       "2                   0                 0    3.404640e+05     46.00   \n",
       "3                   4                 1    3.340110e+05    100.00   \n",
       "4                   2                 1    1.287938e+06    121.95   \n",
       "...               ...               ...             ...       ...   \n",
       "198912              7                 1    2.101869e+05     72.87   \n",
       "198913              8                 1    4.555041e+05    247.00   \n",
       "198914              2                 1    1.692746e+05     50.00   \n",
       "198915              2                 1    3.775266e+05     46.95   \n",
       "198916             15                 1    1.183068e+05    120.00   \n",
       "\n",
       "        ReleaseYear  ItemCount  LowUserPrice  LowNetPrice  \n",
       "0              2015          8         28.97        31.84  \n",
       "1              2005         39          0.00        15.54  \n",
       "2              2013         34         30.19        27.97  \n",
       "3              2006         20        133.93        83.15  \n",
       "4              2010         28          4.00        23.99  \n",
       "...             ...        ...           ...          ...  \n",
       "198912         2006         54          8.46        60.59  \n",
       "198913         2009         65          8.40        74.85  \n",
       "198914         2012         23         23.98        32.62  \n",
       "198915         2001         23         27.42        37.89  \n",
       "198916         2010         44         10.97        60.67  \n",
       "\n",
       "[198917 rows x 14 columns]"
      ]
     },
     "execution_count": 7,
     "metadata": {},
     "output_type": "execute_result"
    }
   ],
   "source": [
    "df"
   ]
  },
  {
   "cell_type": "markdown",
   "id": "07d00535-b016-4dc6-8d13-2f3dd9c39ecc",
   "metadata": {},
   "source": [
    "#### We have to Clean the Data"
   ]
  },
  {
   "cell_type": "code",
   "execution_count": 10,
   "id": "47f49d06-b2c0-4fa8-b388-2a6a816e9cd8",
   "metadata": {},
   "outputs": [
    {
     "name": "stdout",
     "output_type": "stream",
     "text": [
      "Number of duplicate rows: 0\n"
     ]
    }
   ],
   "source": [
    "## To check the duplicates values\n",
    "duplicates = df.duplicated().sum()\n",
    "print(f\"Number of duplicate rows: {duplicates}\")"
   ]
  },
  {
   "cell_type": "code",
   "execution_count": 12,
   "id": "0f3d4754-5027-411e-be24-8908e9aa3254",
   "metadata": {},
   "outputs": [
    {
     "name": "stdout",
     "output_type": "stream",
     "text": [
      "Order                    0\n",
      "File_Type                0\n",
      "SKU_number               0\n",
      "SoldFlag            122921\n",
      "SoldCount           122921\n",
      "MarketingType            0\n",
      "ReleaseNumber            0\n",
      "New_Release_Flag         0\n",
      "StrengthFactor           0\n",
      "PriceReg                 0\n",
      "ReleaseYear              0\n",
      "ItemCount                0\n",
      "LowUserPrice             0\n",
      "LowNetPrice              0\n",
      "dtype: int64\n"
     ]
    }
   ],
   "source": [
    "## Now we have to check the null values\n",
    "print(df.isnull().sum())"
   ]
  },
  {
   "cell_type": "markdown",
   "id": "6f823d81-2b73-4d15-9e33-d1996a4f6422",
   "metadata": {},
   "source": [
    "##### Here We can see that null values are in 2 columns\r\n",
    "##### So, we have to handle it"
   ]
  },
  {
   "cell_type": "code",
   "execution_count": 15,
   "id": "60765046-117a-48c4-9b93-628dffdaf027",
   "metadata": {},
   "outputs": [],
   "source": [
    "df['SoldFlag'].fillna(0, inplace=True)\n",
    "df['SoldCount'].fillna(0, inplace=True)"
   ]
  },
  {
   "cell_type": "code",
   "execution_count": 17,
   "id": "b84b244c-c4db-4e68-ac0f-a1570134501d",
   "metadata": {},
   "outputs": [
    {
     "name": "stdout",
     "output_type": "stream",
     "text": [
      "Order               0\n",
      "File_Type           0\n",
      "SKU_number          0\n",
      "SoldFlag            0\n",
      "SoldCount           0\n",
      "MarketingType       0\n",
      "ReleaseNumber       0\n",
      "New_Release_Flag    0\n",
      "StrengthFactor      0\n",
      "PriceReg            0\n",
      "ReleaseYear         0\n",
      "ItemCount           0\n",
      "LowUserPrice        0\n",
      "LowNetPrice         0\n",
      "dtype: int64\n"
     ]
    }
   ],
   "source": [
    "print(df.isnull().sum())"
   ]
  },
  {
   "cell_type": "markdown",
   "id": "2bd98b54-29b6-448a-bd16-974f3b7b2517",
   "metadata": {},
   "source": [
    "##### Here we can see that after handling the missing values here are no any null values"
   ]
  },
  {
   "cell_type": "markdown",
   "id": "5a6a5f86-1d4b-4727-86b2-883210c4f450",
   "metadata": {},
   "source": [
    "#### We have to save this file and do more operations on it"
   ]
  },
  {
   "cell_type": "code",
   "execution_count": 25,
   "id": "c3d7bb15-544d-4268-bbb7-ec8d3afdb800",
   "metadata": {},
   "outputs": [],
   "source": [
    "df.to_excel('Cleaned Boxify Dataset - Data Analyst Bootcamp.xlsx', index=False)"
   ]
  },
  {
   "cell_type": "code",
   "execution_count": 27,
   "id": "e80fd8e6-deb0-4d1a-b718-4d4b63d5bd0c",
   "metadata": {},
   "outputs": [],
   "source": [
    "from IPython.display import FileLink"
   ]
  },
  {
   "cell_type": "code",
   "execution_count": 29,
   "id": "17b151bd-14fb-4aea-9410-ce79ff3d4772",
   "metadata": {},
   "outputs": [
    {
     "data": {
      "text/html": [
       "<a href='Cleaned Boxify Dataset - Data Analyst Bootcamp.xlsx' target='_blank'>Cleaned Boxify Dataset - Data Analyst Bootcamp.xlsx</a><br>"
      ],
      "text/plain": [
       "D:\\python\\Cleaned Boxify Dataset - Data Analyst Bootcamp.xlsx"
      ]
     },
     "execution_count": 29,
     "metadata": {},
     "output_type": "execute_result"
    }
   ],
   "source": [
    "FileLink('Cleaned Boxify Dataset - Data Analyst Bootcamp.xlsx')"
   ]
  },
  {
   "cell_type": "markdown",
   "id": "bdcf076b-3ef8-40fe-9478-33b00e045fef",
   "metadata": {},
   "source": [
    "##### We save the cleaned data in excel "
   ]
  },
  {
   "cell_type": "code",
   "execution_count": 32,
   "id": "975f4438-3bbd-4a70-b098-4c06ca9dc333",
   "metadata": {},
   "outputs": [],
   "source": [
    "df= pd.read_excel('Cleaned Boxify Dataset - Data Analyst Bootcamp.xlsx')"
   ]
  },
  {
   "cell_type": "code",
   "execution_count": 34,
   "id": "d775da97-2f10-4920-99d9-d98e9f700036",
   "metadata": {},
   "outputs": [
    {
     "data": {
      "text/html": [
       "<div>\n",
       "<style scoped>\n",
       "    .dataframe tbody tr th:only-of-type {\n",
       "        vertical-align: middle;\n",
       "    }\n",
       "\n",
       "    .dataframe tbody tr th {\n",
       "        vertical-align: top;\n",
       "    }\n",
       "\n",
       "    .dataframe thead th {\n",
       "        text-align: right;\n",
       "    }\n",
       "</style>\n",
       "<table border=\"1\" class=\"dataframe\">\n",
       "  <thead>\n",
       "    <tr style=\"text-align: right;\">\n",
       "      <th></th>\n",
       "      <th>Order</th>\n",
       "      <th>File_Type</th>\n",
       "      <th>SKU_number</th>\n",
       "      <th>SoldFlag</th>\n",
       "      <th>SoldCount</th>\n",
       "      <th>MarketingType</th>\n",
       "      <th>ReleaseNumber</th>\n",
       "      <th>New_Release_Flag</th>\n",
       "      <th>StrengthFactor</th>\n",
       "      <th>PriceReg</th>\n",
       "      <th>ReleaseYear</th>\n",
       "      <th>ItemCount</th>\n",
       "      <th>LowUserPrice</th>\n",
       "      <th>LowNetPrice</th>\n",
       "    </tr>\n",
       "  </thead>\n",
       "  <tbody>\n",
       "    <tr>\n",
       "      <th>0</th>\n",
       "      <td>2</td>\n",
       "      <td>Historical</td>\n",
       "      <td>1737127</td>\n",
       "      <td>0</td>\n",
       "      <td>0</td>\n",
       "      <td>D</td>\n",
       "      <td>15</td>\n",
       "      <td>1</td>\n",
       "      <td>6.827430e+05</td>\n",
       "      <td>44.99</td>\n",
       "      <td>2015</td>\n",
       "      <td>8</td>\n",
       "      <td>28.97</td>\n",
       "      <td>31.84</td>\n",
       "    </tr>\n",
       "    <tr>\n",
       "      <th>1</th>\n",
       "      <td>3</td>\n",
       "      <td>Historical</td>\n",
       "      <td>3255963</td>\n",
       "      <td>0</td>\n",
       "      <td>0</td>\n",
       "      <td>D</td>\n",
       "      <td>7</td>\n",
       "      <td>1</td>\n",
       "      <td>1.016014e+06</td>\n",
       "      <td>24.81</td>\n",
       "      <td>2005</td>\n",
       "      <td>39</td>\n",
       "      <td>0.00</td>\n",
       "      <td>15.54</td>\n",
       "    </tr>\n",
       "    <tr>\n",
       "      <th>2</th>\n",
       "      <td>4</td>\n",
       "      <td>Historical</td>\n",
       "      <td>612701</td>\n",
       "      <td>0</td>\n",
       "      <td>0</td>\n",
       "      <td>D</td>\n",
       "      <td>0</td>\n",
       "      <td>0</td>\n",
       "      <td>3.404640e+05</td>\n",
       "      <td>46.00</td>\n",
       "      <td>2013</td>\n",
       "      <td>34</td>\n",
       "      <td>30.19</td>\n",
       "      <td>27.97</td>\n",
       "    </tr>\n",
       "    <tr>\n",
       "      <th>3</th>\n",
       "      <td>6</td>\n",
       "      <td>Historical</td>\n",
       "      <td>115883</td>\n",
       "      <td>1</td>\n",
       "      <td>1</td>\n",
       "      <td>D</td>\n",
       "      <td>4</td>\n",
       "      <td>1</td>\n",
       "      <td>3.340110e+05</td>\n",
       "      <td>100.00</td>\n",
       "      <td>2006</td>\n",
       "      <td>20</td>\n",
       "      <td>133.93</td>\n",
       "      <td>83.15</td>\n",
       "    </tr>\n",
       "    <tr>\n",
       "      <th>4</th>\n",
       "      <td>7</td>\n",
       "      <td>Historical</td>\n",
       "      <td>863939</td>\n",
       "      <td>1</td>\n",
       "      <td>1</td>\n",
       "      <td>D</td>\n",
       "      <td>2</td>\n",
       "      <td>1</td>\n",
       "      <td>1.287938e+06</td>\n",
       "      <td>121.95</td>\n",
       "      <td>2010</td>\n",
       "      <td>28</td>\n",
       "      <td>4.00</td>\n",
       "      <td>23.99</td>\n",
       "    </tr>\n",
       "    <tr>\n",
       "      <th>...</th>\n",
       "      <td>...</td>\n",
       "      <td>...</td>\n",
       "      <td>...</td>\n",
       "      <td>...</td>\n",
       "      <td>...</td>\n",
       "      <td>...</td>\n",
       "      <td>...</td>\n",
       "      <td>...</td>\n",
       "      <td>...</td>\n",
       "      <td>...</td>\n",
       "      <td>...</td>\n",
       "      <td>...</td>\n",
       "      <td>...</td>\n",
       "      <td>...</td>\n",
       "    </tr>\n",
       "    <tr>\n",
       "      <th>198912</th>\n",
       "      <td>208023</td>\n",
       "      <td>Active</td>\n",
       "      <td>109683</td>\n",
       "      <td>0</td>\n",
       "      <td>0</td>\n",
       "      <td>D</td>\n",
       "      <td>7</td>\n",
       "      <td>1</td>\n",
       "      <td>2.101869e+05</td>\n",
       "      <td>72.87</td>\n",
       "      <td>2006</td>\n",
       "      <td>54</td>\n",
       "      <td>8.46</td>\n",
       "      <td>60.59</td>\n",
       "    </tr>\n",
       "    <tr>\n",
       "      <th>198913</th>\n",
       "      <td>208024</td>\n",
       "      <td>Active</td>\n",
       "      <td>416462</td>\n",
       "      <td>0</td>\n",
       "      <td>0</td>\n",
       "      <td>D</td>\n",
       "      <td>8</td>\n",
       "      <td>1</td>\n",
       "      <td>4.555041e+05</td>\n",
       "      <td>247.00</td>\n",
       "      <td>2009</td>\n",
       "      <td>65</td>\n",
       "      <td>8.40</td>\n",
       "      <td>74.85</td>\n",
       "    </tr>\n",
       "    <tr>\n",
       "      <th>198914</th>\n",
       "      <td>208025</td>\n",
       "      <td>Active</td>\n",
       "      <td>658242</td>\n",
       "      <td>0</td>\n",
       "      <td>0</td>\n",
       "      <td>S</td>\n",
       "      <td>2</td>\n",
       "      <td>1</td>\n",
       "      <td>1.692746e+05</td>\n",
       "      <td>50.00</td>\n",
       "      <td>2012</td>\n",
       "      <td>23</td>\n",
       "      <td>23.98</td>\n",
       "      <td>32.62</td>\n",
       "    </tr>\n",
       "    <tr>\n",
       "      <th>198915</th>\n",
       "      <td>208026</td>\n",
       "      <td>Active</td>\n",
       "      <td>2538340</td>\n",
       "      <td>0</td>\n",
       "      <td>0</td>\n",
       "      <td>S</td>\n",
       "      <td>2</td>\n",
       "      <td>1</td>\n",
       "      <td>3.775266e+05</td>\n",
       "      <td>46.95</td>\n",
       "      <td>2001</td>\n",
       "      <td>23</td>\n",
       "      <td>27.42</td>\n",
       "      <td>37.89</td>\n",
       "    </tr>\n",
       "    <tr>\n",
       "      <th>198916</th>\n",
       "      <td>208027</td>\n",
       "      <td>Active</td>\n",
       "      <td>416662</td>\n",
       "      <td>0</td>\n",
       "      <td>0</td>\n",
       "      <td>D</td>\n",
       "      <td>15</td>\n",
       "      <td>1</td>\n",
       "      <td>1.183068e+05</td>\n",
       "      <td>120.00</td>\n",
       "      <td>2010</td>\n",
       "      <td>44</td>\n",
       "      <td>10.97</td>\n",
       "      <td>60.67</td>\n",
       "    </tr>\n",
       "  </tbody>\n",
       "</table>\n",
       "<p>198917 rows × 14 columns</p>\n",
       "</div>"
      ],
      "text/plain": [
       "         Order   File_Type  SKU_number  SoldFlag  SoldCount MarketingType  \\\n",
       "0            2  Historical     1737127         0          0             D   \n",
       "1            3  Historical     3255963         0          0             D   \n",
       "2            4  Historical      612701         0          0             D   \n",
       "3            6  Historical      115883         1          1             D   \n",
       "4            7  Historical      863939         1          1             D   \n",
       "...        ...         ...         ...       ...        ...           ...   \n",
       "198912  208023      Active      109683         0          0             D   \n",
       "198913  208024      Active      416462         0          0             D   \n",
       "198914  208025      Active      658242         0          0             S   \n",
       "198915  208026      Active     2538340         0          0             S   \n",
       "198916  208027      Active      416662         0          0             D   \n",
       "\n",
       "        ReleaseNumber  New_Release_Flag  StrengthFactor  PriceReg  \\\n",
       "0                  15                 1    6.827430e+05     44.99   \n",
       "1                   7                 1    1.016014e+06     24.81   \n",
       "2                   0                 0    3.404640e+05     46.00   \n",
       "3                   4                 1    3.340110e+05    100.00   \n",
       "4                   2                 1    1.287938e+06    121.95   \n",
       "...               ...               ...             ...       ...   \n",
       "198912              7                 1    2.101869e+05     72.87   \n",
       "198913              8                 1    4.555041e+05    247.00   \n",
       "198914              2                 1    1.692746e+05     50.00   \n",
       "198915              2                 1    3.775266e+05     46.95   \n",
       "198916             15                 1    1.183068e+05    120.00   \n",
       "\n",
       "        ReleaseYear  ItemCount  LowUserPrice  LowNetPrice  \n",
       "0              2015          8         28.97        31.84  \n",
       "1              2005         39          0.00        15.54  \n",
       "2              2013         34         30.19        27.97  \n",
       "3              2006         20        133.93        83.15  \n",
       "4              2010         28          4.00        23.99  \n",
       "...             ...        ...           ...          ...  \n",
       "198912         2006         54          8.46        60.59  \n",
       "198913         2009         65          8.40        74.85  \n",
       "198914         2012         23         23.98        32.62  \n",
       "198915         2001         23         27.42        37.89  \n",
       "198916         2010         44         10.97        60.67  \n",
       "\n",
       "[198917 rows x 14 columns]"
      ]
     },
     "execution_count": 34,
     "metadata": {},
     "output_type": "execute_result"
    }
   ],
   "source": [
    "df"
   ]
  },
  {
   "cell_type": "markdown",
   "id": "196f8bed-0fcc-441a-bbf1-ce91ee3e4467",
   "metadata": {},
   "source": [
    "### Exploratory Data Analysis (EDA)"
   ]
  },
  {
   "cell_type": "markdown",
   "id": "9dedfc4c-2a8d-4cb4-be29-109a253a9edc",
   "metadata": {},
   "source": [
    "##### Sales Trends and variation over time(Aggregate Sales Data by Year)"
   ]
  },
  {
   "cell_type": "code",
   "execution_count": 38,
   "id": "0ae3370f-eed3-475b-bad9-f190ea93092f",
   "metadata": {},
   "outputs": [
    {
     "data": {
      "text/html": [
       "<div>\n",
       "<style scoped>\n",
       "    .dataframe tbody tr th:only-of-type {\n",
       "        vertical-align: middle;\n",
       "    }\n",
       "\n",
       "    .dataframe tbody tr th {\n",
       "        vertical-align: top;\n",
       "    }\n",
       "\n",
       "    .dataframe thead th {\n",
       "        text-align: right;\n",
       "    }\n",
       "</style>\n",
       "<table border=\"1\" class=\"dataframe\">\n",
       "  <thead>\n",
       "    <tr style=\"text-align: right;\">\n",
       "      <th></th>\n",
       "      <th>ReleaseYear</th>\n",
       "      <th>SoldCount</th>\n",
       "    </tr>\n",
       "  </thead>\n",
       "  <tbody>\n",
       "    <tr>\n",
       "      <th>0</th>\n",
       "      <td>0</td>\n",
       "      <td>0</td>\n",
       "    </tr>\n",
       "    <tr>\n",
       "      <th>1</th>\n",
       "      <td>1900</td>\n",
       "      <td>0</td>\n",
       "    </tr>\n",
       "    <tr>\n",
       "      <th>2</th>\n",
       "      <td>1904</td>\n",
       "      <td>0</td>\n",
       "    </tr>\n",
       "    <tr>\n",
       "      <th>3</th>\n",
       "      <td>1905</td>\n",
       "      <td>0</td>\n",
       "    </tr>\n",
       "    <tr>\n",
       "      <th>4</th>\n",
       "      <td>1914</td>\n",
       "      <td>0</td>\n",
       "    </tr>\n",
       "    <tr>\n",
       "      <th>...</th>\n",
       "      <td>...</td>\n",
       "      <td>...</td>\n",
       "    </tr>\n",
       "    <tr>\n",
       "      <th>80</th>\n",
       "      <td>2014</td>\n",
       "      <td>794</td>\n",
       "    </tr>\n",
       "    <tr>\n",
       "      <th>81</th>\n",
       "      <td>2015</td>\n",
       "      <td>122</td>\n",
       "    </tr>\n",
       "    <tr>\n",
       "      <th>82</th>\n",
       "      <td>2016</td>\n",
       "      <td>3</td>\n",
       "    </tr>\n",
       "    <tr>\n",
       "      <th>83</th>\n",
       "      <td>2017</td>\n",
       "      <td>0</td>\n",
       "    </tr>\n",
       "    <tr>\n",
       "      <th>84</th>\n",
       "      <td>2018</td>\n",
       "      <td>0</td>\n",
       "    </tr>\n",
       "  </tbody>\n",
       "</table>\n",
       "<p>85 rows × 2 columns</p>\n",
       "</div>"
      ],
      "text/plain": [
       "    ReleaseYear  SoldCount\n",
       "0             0          0\n",
       "1          1900          0\n",
       "2          1904          0\n",
       "3          1905          0\n",
       "4          1914          0\n",
       "..          ...        ...\n",
       "80         2014        794\n",
       "81         2015        122\n",
       "82         2016          3\n",
       "83         2017          0\n",
       "84         2018          0\n",
       "\n",
       "[85 rows x 2 columns]"
      ]
     },
     "execution_count": 38,
     "metadata": {},
     "output_type": "execute_result"
    }
   ],
   "source": [
    "sales_trends = df.groupby('ReleaseYear')['SoldCount'].sum().reset_index()\n",
    "sales_trends"
   ]
  },
  {
   "cell_type": "code",
   "execution_count": 40,
   "id": "5e4b0516-a9ea-4da3-836d-59e89c82931b",
   "metadata": {},
   "outputs": [
    {
     "name": "stdout",
     "output_type": "stream",
     "text": [
      "    ReleaseYear  SoldCount       Trend\n",
      "0             0          0    Holidays\n",
      "1          1900          0    Holidays\n",
      "2          1904          0    Holidays\n",
      "3          1905          0    Holidays\n",
      "4          1914          0    Holidays\n",
      "..          ...        ...         ...\n",
      "80         2014        794    Peak Day\n",
      "81         2015        122  Normal Day\n",
      "82         2016          3    Holidays\n",
      "83         2017          0    Holidays\n",
      "84         2018          0    Holidays\n",
      "\n",
      "[85 rows x 3 columns]\n"
     ]
    }
   ],
   "source": [
    "# Apply the seasonal trend logic to classify sales trends\n",
    "def classify_sales_trend(sales):\n",
    "    if sales < 20:\n",
    "        return \"Holidays\"\n",
    "    elif sales < 200:\n",
    "        return \"Normal Day\"\n",
    "    else:\n",
    "        return \"Peak Day\"\n",
    "sales_trends['Trend'] = sales_trends['SoldCount'].apply(classify_sales_trend)\n",
    "print(sales_trends)"
   ]
  },
  {
   "cell_type": "markdown",
   "id": "d655bad4-c0b5-4c26-a31c-34120c287392",
   "metadata": {},
   "source": [
    "## Identify top-selling products and categories."
   ]
  },
  {
   "cell_type": "code",
   "execution_count": 45,
   "id": "d7e4d441-65e8-4a2d-9c98-a4afb525b5b4",
   "metadata": {},
   "outputs": [],
   "source": [
    "top_products = df.groupby('SKU_number')['SoldCount'].sum().sort_values(ascending=False).head(10)"
   ]
  },
  {
   "cell_type": "code",
   "execution_count": 47,
   "id": "552a2ccb-ae38-4efd-b911-85b8689b9303",
   "metadata": {},
   "outputs": [
    {
     "data": {
      "text/plain": [
       "SKU_number\n",
       "665269    73\n",
       "613864    69\n",
       "141848    51\n",
       "254518    40\n",
       "767846    36\n",
       "55769     36\n",
       "416609    35\n",
       "243550    34\n",
       "141824    33\n",
       "747765    30\n",
       "Name: SoldCount, dtype: int64"
      ]
     },
     "execution_count": 47,
     "metadata": {},
     "output_type": "execute_result"
    }
   ],
   "source": [
    "top_products"
   ]
  },
  {
   "cell_type": "code",
   "execution_count": 51,
   "id": "71680b63-c113-405d-a4c8-8b5abb111f45",
   "metadata": {},
   "outputs": [
    {
     "data": {
      "text/plain": [
       "File_Type\n",
       "Historical    24494\n",
       "Active            0\n",
       "Name: SoldCount, dtype: int64"
      ]
     },
     "execution_count": 51,
     "metadata": {},
     "output_type": "execute_result"
    }
   ],
   "source": [
    "top_categories = df.groupby('File_Type')['SoldCount'].sum().sort_values(ascending=False)\n",
    "top_categories"
   ]
  },
  {
   "cell_type": "code",
   "execution_count": 53,
   "id": "d6260c4b-06d8-4ddc-9009-c05a74200fbf",
   "metadata": {},
   "outputs": [],
   "source": [
    "stock_level = df.groupby('SKU_number')['ItemCount'].sum().sort_values(ascending=False)"
   ]
  },
  {
   "cell_type": "code",
   "execution_count": 55,
   "id": "40f47c56-6d35-4169-abd7-25011143e89e",
   "metadata": {},
   "outputs": [
    {
     "data": {
      "text/plain": [
       "SKU_number\n",
       "536345     3046\n",
       "198645     2852\n",
       "672549     2542\n",
       "543471     1920\n",
       "612805     1860\n",
       "           ... \n",
       "862455        0\n",
       "2281256       0\n",
       "2281296       0\n",
       "2281309       0\n",
       "2558237       0\n",
       "Name: ItemCount, Length: 133360, dtype: int64"
      ]
     },
     "execution_count": 55,
     "metadata": {},
     "output_type": "execute_result"
    }
   ],
   "source": [
    "stock_level"
   ]
  },
  {
   "cell_type": "code",
   "execution_count": 57,
   "id": "bae8b810-972d-4b3e-9eb9-850d3e8560d0",
   "metadata": {},
   "outputs": [
    {
     "name": "stdout",
     "output_type": "stream",
     "text": [
      "Low-stock items:\n",
      "        SKU_number  ItemCount\n",
      "0          1737127          8\n",
      "118         873654          5\n",
      "350         613288          9\n",
      "797         521116          2\n",
      "1073        659971          8\n",
      "...            ...        ...\n",
      "197792      766251          6\n",
      "198244     2511839          7\n",
      "198260     2287680          0\n",
      "198310     1456205          9\n",
      "198520     1624605          2\n",
      "\n",
      "[3379 rows x 2 columns]\n"
     ]
    }
   ],
   "source": [
    "## Show only those SKU_number whose item count is less than or equals to 10\n",
    "thresold= 10\n",
    "low_stock_items = df[df['ItemCount'] < thresold]\n",
    "\n",
    "print(\"Low-stock items:\")\n",
    "print(low_stock_items[['SKU_number', 'ItemCount']])"
   ]
  },
  {
   "cell_type": "code",
   "execution_count": 59,
   "id": "f549ce82-b78a-4c70-9a1a-a5d9fc4b1967",
   "metadata": {},
   "outputs": [],
   "source": [
    "low_stock_summary=low_stock_items.groupby('SKU_number')['ItemCount'].min().sort_values().head(100)"
   ]
  },
  {
   "cell_type": "code",
   "execution_count": 61,
   "id": "3130104f-762d-4b62-afa2-bcb390f03db4",
   "metadata": {},
   "outputs": [
    {
     "data": {
      "text/plain": [
       "SKU_number\n",
       "2032231    0\n",
       "3530648    0\n",
       "3748942    0\n",
       "2287580    0\n",
       "2287680    0\n",
       "          ..\n",
       "2299367    0\n",
       "2298513    0\n",
       "2575187    0\n",
       "3634467    0\n",
       "2291822    0\n",
       "Name: ItemCount, Length: 100, dtype: int64"
      ]
     },
     "execution_count": 61,
     "metadata": {},
     "output_type": "execute_result"
    }
   ],
   "source": [
    "low_stock_summary"
   ]
  },
  {
   "cell_type": "markdown",
   "id": "71c60721-13a2-46f5-8624-282e9a94bdb4",
   "metadata": {},
   "source": [
    "### Inventory Insights and Recommendations"
   ]
  },
  {
   "cell_type": "markdown",
   "id": "fc6cb982-111f-4d3a-b478-c542783ec3d1",
   "metadata": {},
   "source": [
    "##### Inventory turnover"
   ]
  },
  {
   "cell_type": "markdown",
   "id": "6f57deb0-6df2-46d7-83b0-c1b406c673db",
   "metadata": {},
   "source": [
    "### 1st KPI"
   ]
  },
  {
   "cell_type": "code",
   "execution_count": 65,
   "id": "eca6e6f8-9696-478e-ac27-a220ecb58771",
   "metadata": {},
   "outputs": [
    {
     "data": {
      "text/plain": [
       "41.42628332420055"
      ]
     },
     "execution_count": 65,
     "metadata": {},
     "output_type": "execute_result"
    }
   ],
   "source": [
    "## We have to calculate average inventory because it used in inventory turnover\n",
    "avg_inventory=df['ItemCount'].mean()\n",
    "avg_inventory"
   ]
  },
  {
   "cell_type": "code",
   "execution_count": 67,
   "id": "2457861a-172d-4b1e-bcb8-94ecdd5e1df6",
   "metadata": {},
   "outputs": [
    {
     "name": "stdout",
     "output_type": "stream",
     "text": [
      "Inventory Turnover: 591.27\n"
     ]
    }
   ],
   "source": [
    "# Example formula: Inventory Turnover = Total SoldCount / Average ItemCount\n",
    "inventory_turnover = df['SoldCount'].sum() / avg_inventory\n",
    "print(f\"Inventory Turnover: {inventory_turnover:.2f}\")"
   ]
  },
  {
   "cell_type": "markdown",
   "id": "f10f6c9f-530d-4397-875c-122bbccab280",
   "metadata": {},
   "source": [
    "##### stock-to-sales ratio"
   ]
  },
  {
   "cell_type": "markdown",
   "id": "71c65a3d-dad6-4c16-98e4-ee4276c4e785",
   "metadata": {},
   "source": [
    "### 2nd KPI"
   ]
  },
  {
   "cell_type": "code",
   "execution_count": 5,
   "id": "c01d0d35-7435-4de9-97e7-303d1e9ac384",
   "metadata": {},
   "outputs": [
    {
     "ename": "NameError",
     "evalue": "name 'df' is not defined",
     "output_type": "error",
     "traceback": [
      "\u001b[1;31m---------------------------------------------------------------------------\u001b[0m",
      "\u001b[1;31mNameError\u001b[0m                                 Traceback (most recent call last)",
      "Cell \u001b[1;32mIn[5], line 2\u001b[0m\n\u001b[0;32m      1\u001b[0m \u001b[38;5;66;03m## we have to calculate total sales because it used in reorder points\u001b[39;00m\n\u001b[1;32m----> 2\u001b[0m total_sales\u001b[38;5;241m=\u001b[39mdf[\u001b[38;5;124m'\u001b[39m\u001b[38;5;124mSoldCount\u001b[39m\u001b[38;5;124m'\u001b[39m]\u001b[38;5;241m.\u001b[39msum()\n\u001b[0;32m      3\u001b[0m total_sales\n",
      "\u001b[1;31mNameError\u001b[0m: name 'df' is not defined"
     ]
    }
   ],
   "source": [
    "## we have to calculate total sales because it used in reorder points\n",
    "total_sales=df['SoldCount'].sum()\n",
    "total_sales"
   ]
  },
  {
   "cell_type": "code",
   "execution_count": 92,
   "id": "0d09ce42-c7ab-4a89-9845-20a40f0c6c69",
   "metadata": {},
   "outputs": [
    {
     "name": "stdout",
     "output_type": "stream",
     "text": [
      "Stock-to-Sales Ratio:, 0.0017\n"
     ]
    }
   ],
   "source": [
    "#Stock-to-sales ratio\n",
    "stock_to_sales_ratio = avg_inventory/total_sales\n",
    "print(f\"Stock-to-Sales Ratio:, {stock_to_sales_ratio:.4f}\")"
   ]
  },
  {
   "cell_type": "markdown",
   "id": "86254850-4e18-4032-bd7e-4310e899502c",
   "metadata": {},
   "source": [
    "##### reorder points"
   ]
  },
  {
   "cell_type": "code",
   "execution_count": 77,
   "id": "d69b726d-ada0-4853-8b4d-e832ad4643d1",
   "metadata": {},
   "outputs": [
    {
     "data": {
      "text/plain": [
       "67.10684931506849"
      ]
     },
     "execution_count": 77,
     "metadata": {},
     "output_type": "execute_result"
    }
   ],
   "source": [
    "lead_days = 7\n",
    "days_in_datasets = 365\n",
    "## To calculate average_daily_sales we have to divide total_sales by the days_in_datasets\n",
    "avg_daily_sales=total_sales/days_in_datasets\n",
    "avg_daily_sales"
   ]
  },
  {
   "cell_type": "code",
   "execution_count": 79,
   "id": "c3fea71d-a4da-4dd2-a814-db5e0d88d122",
   "metadata": {},
   "outputs": [
    {
     "name": "stdout",
     "output_type": "stream",
     "text": [
      "Reorder Points= 469.7479452054794\n"
     ]
    }
   ],
   "source": [
    "## To calculate Reorder Point we have to multiply avg_daily_sales with lead_days\n",
    "reorder_point= avg_daily_sales*lead_days\n",
    "print(\"Reorder Points=\",reorder_point)"
   ]
  },
  {
   "cell_type": "markdown",
   "id": "2d447fb4-4904-4cd6-b7b2-cedb8f16c10e",
   "metadata": {},
   "source": [
    "#### Action Recommendation"
   ]
  },
  {
   "cell_type": "code",
   "execution_count": 82,
   "id": "96be0931-a071-4541-9326-32d6af2d36a0",
   "metadata": {},
   "outputs": [
    {
     "data": {
      "text/plain": [
       "['Ensure sufficient stock levels for SKU 665269 to meet demand.',\n",
       " 'Ensure sufficient stock levels for SKU 613864 to meet demand.',\n",
       " 'Ensure sufficient stock levels for SKU 141848 to meet demand.',\n",
       " 'Ensure sufficient stock levels for SKU 254518 to meet demand.',\n",
       " 'Ensure sufficient stock levels for SKU 767846 to meet demand.',\n",
       " 'Ensure sufficient stock levels for SKU 55769 to meet demand.',\n",
       " 'Ensure sufficient stock levels for SKU 416609 to meet demand.',\n",
       " 'Ensure sufficient stock levels for SKU 243550 to meet demand.',\n",
       " 'Ensure sufficient stock levels for SKU 141824 to meet demand.',\n",
       " 'Ensure sufficient stock levels for SKU 747765 to meet demand.']"
      ]
     },
     "execution_count": 82,
     "metadata": {},
     "output_type": "execute_result"
    }
   ],
   "source": [
    "# Identify Top Products\n",
    "top_products_recommendation = [\n",
    "    f\"Ensure sufficient stock levels for SKU {sku} to meet demand.\" \n",
    "    for sku in top_products.index\n",
    "]\n",
    "top_products_recommendation\n"
   ]
  },
  {
   "cell_type": "code",
   "execution_count": 84,
   "id": "2cf502d3-ae3a-4b34-9746-b72d0de6e829",
   "metadata": {},
   "outputs": [
    {
     "data": {
      "text/plain": [
       "['Reorder SKU 1737127 as current stock (8) is below the threshold.',\n",
       " 'Reorder SKU 873654 as current stock (5) is below the threshold.',\n",
       " 'Reorder SKU 613288 as current stock (9) is below the threshold.',\n",
       " 'Reorder SKU 521116 as current stock (2) is below the threshold.',\n",
       " 'Reorder SKU 659971 as current stock (8) is below the threshold.',\n",
       " 'Reorder SKU 1450154 as current stock (6) is below the threshold.',\n",
       " 'Reorder SKU 146207 as current stock (6) is below the threshold.',\n",
       " 'Reorder SKU 147350 as current stock (9) is below the threshold.',\n",
       " 'Reorder SKU 1594170 as current stock (7) is below the threshold.',\n",
       " 'Reorder SKU 1632797 as current stock (8) is below the threshold.']"
      ]
     },
     "execution_count": 84,
     "metadata": {},
     "output_type": "execute_result"
    }
   ],
   "source": [
    "# Identify Low-stock\n",
    "low_stock_items_recommendation = [\n",
    "    f\"Reorder SKU {row['SKU_number']} as current stock ({row['ItemCount']}) is below the threshold.\"\n",
    "    for _, row in low_stock_items.iterrows()\n",
    "]\n",
    "low_stock_items_recommendation[:10]"
   ]
  },
  {
   "cell_type": "code",
   "execution_count": 88,
   "id": "4a7ff90a-0ab1-4e90-8be9-e9a7c7edab02",
   "metadata": {},
   "outputs": [
    {
     "data": {
      "text/plain": [
       "ReleaseYear\n",
       "0          1\n",
       "1900     338\n",
       "1904       2\n",
       "1905       1\n",
       "1914       1\n",
       "        ... \n",
       "2014    7124\n",
       "2015    3862\n",
       "2016     652\n",
       "2017       6\n",
       "2018       1\n",
       "Name: SKU_number, Length: 85, dtype: int64"
      ]
     },
     "execution_count": 88,
     "metadata": {},
     "output_type": "execute_result"
    }
   ],
   "source": [
    "seasonal_trends = df.groupby('ReleaseYear')['SKU_number'].nunique().sort_index() \n",
    "seasonal_trends\n"
   ]
  },
  {
   "cell_type": "code",
   "execution_count": null,
   "id": "ca7c3234-dd72-44ec-97aa-af1062e60234",
   "metadata": {},
   "outputs": [],
   "source": []
  }
 ],
 "metadata": {
  "kernelspec": {
   "display_name": "Python 3 (ipykernel)",
   "language": "python",
   "name": "python3"
  },
  "language_info": {
   "codemirror_mode": {
    "name": "ipython",
    "version": 3
   },
   "file_extension": ".py",
   "mimetype": "text/x-python",
   "name": "python",
   "nbconvert_exporter": "python",
   "pygments_lexer": "ipython3",
   "version": "3.12.4"
  }
 },
 "nbformat": 4,
 "nbformat_minor": 5
}
